{
 "cells": [
  {
   "cell_type": "code",
   "execution_count": 11,
   "metadata": {
    "collapsed": true
   },
   "outputs": [],
   "source": [
    "import numpy as np\n",
    "import pandas as pd \n",
    "foodfacts=pd.read_csv('en.openfoodfacts.org.products.tsv',  sep='\\t')\n",
    "\n"
   ]
  },
  {
   "cell_type": "code",
   "execution_count": 12,
   "metadata": {
    "collapsed": true
   },
   "outputs": [],
   "source": [
    "#clean missing data\n",
    "variables=foodfacts[['fiber_100g','proteins_100g',\n",
    "'fat_100g',\n",
    "'sugars_100g',\n",
    "'salt_100g',\n",
    "'sodium_100g',\n",
    "'additives_n',\n",
    "'carbohydrates_100g']]\n",
    "locations=np.where(variables.fiber_100g.notnull() & variables.proteins_100g.notnull() &\n",
    "                   variables.fat_100g.notnull() & variables.sugars_100g.notnull()  \n",
    "                    & variables.salt_100g.notnull() &\n",
    "                   variables.sodium_100g.notnull() & variables.additives_n.notnull() &\n",
    "                   variables.carbohydrates_100g.notnull()\n",
    "                   )[0]\n",
    "\n",
    "variablesnew=variables.loc[locations,:]"
   ]
  },
  {
   "cell_type": "code",
   "execution_count": 15,
   "metadata": {},
   "outputs": [
    {
     "data": {
      "text/html": [
       "<table class=\"simpletable\">\n",
       "<caption>OLS Regression Results</caption>\n",
       "<tr>\n",
       "  <th>Dep. Variable:</th>       <td>energy_100g</td>   <th>  R-squared:         </th>  <td>   0.957</td>  \n",
       "</tr>\n",
       "<tr>\n",
       "  <th>Model:</th>                   <td>OLS</td>       <th>  Adj. R-squared:    </th>  <td>   0.957</td>  \n",
       "</tr>\n",
       "<tr>\n",
       "  <th>Method:</th>             <td>Least Squares</td>  <th>  F-statistic:       </th>  <td>5.463e+05</td> \n",
       "</tr>\n",
       "<tr>\n",
       "  <th>Date:</th>             <td>Mon, 30 Oct 2017</td> <th>  Prob (F-statistic):</th>   <td>  0.00</td>   \n",
       "</tr>\n",
       "<tr>\n",
       "  <th>Time:</th>                 <td>10:29:50</td>     <th>  Log-Likelihood:    </th> <td>-1.2606e+06</td>\n",
       "</tr>\n",
       "<tr>\n",
       "  <th>No. Observations:</th>      <td>194550</td>      <th>  AIC:               </th>  <td>2.521e+06</td> \n",
       "</tr>\n",
       "<tr>\n",
       "  <th>Df Residuals:</th>          <td>194541</td>      <th>  BIC:               </th>  <td>2.521e+06</td> \n",
       "</tr>\n",
       "<tr>\n",
       "  <th>Df Model:</th>              <td>     8</td>      <th>                     </th>      <td> </td>     \n",
       "</tr>\n",
       "<tr>\n",
       "  <th>Covariance Type:</th>      <td>nonrobust</td>    <th>                     </th>      <td> </td>     \n",
       "</tr>\n",
       "</table>\n",
       "<table class=\"simpletable\">\n",
       "<tr>\n",
       "           <td></td>             <th>coef</th>     <th>std err</th>      <th>t</th>      <th>P>|t|</th>  <th>[0.025</th>    <th>0.975]</th>  \n",
       "</tr>\n",
       "<tr>\n",
       "  <th>Intercept</th>          <td>   32.8822</td> <td>    0.756</td> <td>   43.483</td> <td> 0.000</td> <td>   31.400</td> <td>   34.364</td>\n",
       "</tr>\n",
       "<tr>\n",
       "  <th>fiber_100g</th>         <td> 1.807e-09</td> <td> 1.86e-09</td> <td>    0.972</td> <td> 0.331</td> <td>-1.84e-09</td> <td> 5.45e-09</td>\n",
       "</tr>\n",
       "<tr>\n",
       "  <th>proteins_100g</th>      <td>   15.8413</td> <td>    0.048</td> <td>  330.929</td> <td> 0.000</td> <td>   15.748</td> <td>   15.935</td>\n",
       "</tr>\n",
       "<tr>\n",
       "  <th>fat_100g</th>           <td>   36.2329</td> <td>    0.024</td> <td> 1526.947</td> <td> 0.000</td> <td>   36.186</td> <td>   36.279</td>\n",
       "</tr>\n",
       "<tr>\n",
       "  <th>sugars_100g</th>        <td>    0.1345</td> <td>    0.024</td> <td>    5.508</td> <td> 0.000</td> <td>    0.087</td> <td>    0.182</td>\n",
       "</tr>\n",
       "<tr>\n",
       "  <th>salt_100g</th>          <td>-1998.4026</td> <td>  467.624</td> <td>   -4.274</td> <td> 0.000</td> <td>-2914.935</td> <td>-1081.870</td>\n",
       "</tr>\n",
       "<tr>\n",
       "  <th>sodium_100g</th>        <td> 5076.0925</td> <td> 1187.766</td> <td>    4.274</td> <td> 0.000</td> <td> 2748.100</td> <td> 7404.085</td>\n",
       "</tr>\n",
       "<tr>\n",
       "  <th>additives_n</th>        <td>    0.5250</td> <td>    0.145</td> <td>    3.623</td> <td> 0.000</td> <td>    0.241</td> <td>    0.809</td>\n",
       "</tr>\n",
       "<tr>\n",
       "  <th>carbohydrates_100g</th> <td>   16.2054</td> <td>    0.016</td> <td>  992.329</td> <td> 0.000</td> <td>   16.173</td> <td>   16.237</td>\n",
       "</tr>\n",
       "</table>\n",
       "<table class=\"simpletable\">\n",
       "<tr>\n",
       "  <th>Omnibus:</th>       <td>330125.563</td> <th>  Durbin-Watson:     </th>    <td>   1.696</td>   \n",
       "</tr>\n",
       "<tr>\n",
       "  <th>Prob(Omnibus):</th>   <td> 0.000</td>   <th>  Jarque-Bera (JB):  </th> <td>6380179765.600</td>\n",
       "</tr>\n",
       "<tr>\n",
       "  <th>Skew:</th>            <td>10.515</td>   <th>  Prob(JB):          </th>    <td>    0.00</td>   \n",
       "</tr>\n",
       "<tr>\n",
       "  <th>Kurtosis:</th>        <td>889.920</td>  <th>  Cond. No.          </th>    <td>6.87e+11</td>   \n",
       "</tr>\n",
       "</table>"
      ],
      "text/plain": [
       "<class 'statsmodels.iolib.summary.Summary'>\n",
       "\"\"\"\n",
       "                            OLS Regression Results                            \n",
       "==============================================================================\n",
       "Dep. Variable:            energy_100g   R-squared:                       0.957\n",
       "Model:                            OLS   Adj. R-squared:                  0.957\n",
       "Method:                 Least Squares   F-statistic:                 5.463e+05\n",
       "Date:                Mon, 30 Oct 2017   Prob (F-statistic):               0.00\n",
       "Time:                        10:29:50   Log-Likelihood:            -1.2606e+06\n",
       "No. Observations:              194550   AIC:                         2.521e+06\n",
       "Df Residuals:                  194541   BIC:                         2.521e+06\n",
       "Df Model:                           8                                         \n",
       "Covariance Type:            nonrobust                                         \n",
       "======================================================================================\n",
       "                         coef    std err          t      P>|t|      [0.025      0.975]\n",
       "--------------------------------------------------------------------------------------\n",
       "Intercept             32.8822      0.756     43.483      0.000      31.400      34.364\n",
       "fiber_100g          1.807e-09   1.86e-09      0.972      0.331   -1.84e-09    5.45e-09\n",
       "proteins_100g         15.8413      0.048    330.929      0.000      15.748      15.935\n",
       "fat_100g              36.2329      0.024   1526.947      0.000      36.186      36.279\n",
       "sugars_100g            0.1345      0.024      5.508      0.000       0.087       0.182\n",
       "salt_100g          -1998.4026    467.624     -4.274      0.000   -2914.935   -1081.870\n",
       "sodium_100g         5076.0925   1187.766      4.274      0.000    2748.100    7404.085\n",
       "additives_n            0.5250      0.145      3.623      0.000       0.241       0.809\n",
       "carbohydrates_100g    16.2054      0.016    992.329      0.000      16.173      16.237\n",
       "==============================================================================\n",
       "Omnibus:                   330125.563   Durbin-Watson:                   1.696\n",
       "Prob(Omnibus):                  0.000   Jarque-Bera (JB):       6380179765.600\n",
       "Skew:                          10.515   Prob(JB):                         0.00\n",
       "Kurtosis:                     889.920   Cond. No.                     6.87e+11\n",
       "==============================================================================\n",
       "\n",
       "Warnings:\n",
       "[1] Standard Errors assume that the covariance matrix of the errors is correctly specified.\n",
       "[2] The condition number is large, 6.87e+11. This might indicate that there are\n",
       "strong multicollinearity or other numerical problems.\n",
       "\"\"\""
      ]
     },
     "execution_count": 15,
     "metadata": {},
     "output_type": "execute_result"
    }
   ],
   "source": [
    "#append energy_100g, the subject of interest to variablesnew\n",
    "variablesnew['energy_100g']=foodfacts.energy_100g\n",
    "#run linear regression\n",
    "import statsmodels.formula.api as sm\n",
    "result=sm.ols(formula=\"energy_100g ~ fiber_100g+proteins_100g+fat_100g+sugars_100g+salt_100g+sodium_100g+additives_n+carbohydrates_100g\",\n",
    "             data=variablesnew).fit()\n",
    "result.summary()\n",
    "#based on this table, salt and sodium are not good candidates because of their high standard error. \n",
    "#fiber is not correlated based on its t value.\n",
    "#plot regression line of 'additives_n','fat_100g','sugars_100g','carbohydrates_100g','proteins_100g'"
   ]
  },
  {
   "cell_type": "code",
   "execution_count": 17,
   "metadata": {},
   "outputs": [
    {
     "data": {
      "image/png": "[encoded data removed]",
      "text/plain": [
       "<matplotlib.figure.Figure at 0x12b802bd0>"
      ]
     },
     "metadata": {},
     "output_type": "display_data"
    }
   ],
   "source": [
    "import matplotlib.pyplot as plt\n",
    "xgrid=np.linspace(0,100,1000)\n",
    "plt.plot(xgrid,xgrid*result.params['additives_n']+result.params['Intercept'],'-')\n",
    "plt.plot(xgrid,xgrid*result.params['fat_100g']+result.params['Intercept'],'-')\n",
    "plt.plot(xgrid,xgrid*result.params['sugars_100g']+result.params['Intercept'],'-')\n",
    "plt.plot(xgrid,xgrid*result.params['carbohydrates_100g']+result.params['Intercept'],'-')\n",
    "plt.plot(xgrid,xgrid*result.params['proteins_100g']+result.params['Intercept'],'-')\n",
    "plt.legend(labels=['additives_n','fat_100g','sugars_100g','carbohydrates_100g','proteins_100g'])\n",
    "plt.ylabel('calories')\n",
    "plt.show()\n",
    "\n",
    "#we can see that fat, sugar, proteins and carbo hydrates both influence positively on calories. Interestingly,\n",
    "#although the slope is small, number of additives has a positive influence on calories of food.\n",
    "#It means that high calories food tend to have more additives added.\n",
    "#Interestingly, the slope on sugar is also very small, although positive. It means that sugar is \n",
    "#not a major source that contributes to calories compared with fat,carbohydrates and proteins\n"
   ]
  },
  {
   "cell_type": "code",
   "execution_count": null,
   "metadata": {
    "collapsed": true
   },
   "outputs": [],
   "source": []
  }
 ],
 "metadata": {
  "kernelspec": {
   "display_name": "Python 2",
   "language": "python",
   "name": "python2"
  },
  "language_info": {
   "codemirror_mode": {
    "name": "ipython",
    "version": 2
   },
   "file_extension": ".py",
   "mimetype": "text/x-python",
   "name": "python",
   "nbconvert_exporter": "python",
   "pygments_lexer": "ipython2",
   "version": "2.7.13"
  }
 },
 "nbformat": 4,
 "nbformat_minor": 2
}
